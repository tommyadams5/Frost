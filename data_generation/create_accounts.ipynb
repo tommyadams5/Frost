{
 "cells": [
  {
   "cell_type": "code",
   "execution_count": 2,
   "metadata": {},
   "outputs": [],
   "source": [
    "import os\n",
    "import json\n",
    "import requests\n",
    "import time\n",
    "import random\n",
    "import csv\n",
    "from openai import OpenAI\n",
    "from dotenv import load_dotenv"
   ]
  },
  {
   "cell_type": "code",
   "execution_count": 4,
   "metadata": {},
   "outputs": [],
   "source": [
    "# Accessing OpenAI API\n",
    "load_dotenv()\n",
    "os.environ['OPENAI_API_KEY'] = os.getenv(\"key\")\n",
    "client = OpenAI()"
   ]
  },
  {
   "cell_type": "code",
   "execution_count": 46,
   "metadata": {},
   "outputs": [],
   "source": [
    "# Function to download generated images from the provided url\n",
    "def download_image(url, filename):\n",
    "    response = requests.get(url)\n",
    "    if response.status_code == 200:\n",
    "        with open(filename, 'wb') as f:\n",
    "            f.write(response.content)\n",
    "        print(f\"Image downloaded successfully as {filename}\")\n",
    "    else:\n",
    "        print(f\"Failed to download image from {url}\")\n",
    "\n",
    "# Creating list\n",
    "def create_list(list_prompt, temp=0.7):\n",
    "  chat_response = client.chat.completions.create(\n",
    "    model=\"gpt-3.5-turbo-0125\",\n",
    "    response_format={ \"type\": \"json_object\" },\n",
    "    temperature=temp,\n",
    "    messages=[\n",
    "      {\"role\": \"system\", \"content\": \"You are a helpful assistant designed to output JSON.\"},\n",
    "      {\"role\": \"user\", \"content\": list_prompt}\n",
    "    ]\n",
    "  )\n",
    "  data = json.loads(chat_response.choices[0].message.content)\n",
    "  data = list(data.values())[0]\n",
    "  data = list(set(data))\n",
    "  return data\n",
    "\n",
    "# Generate pics with Dall-e-2\n",
    "def create_pics(profile_prompt, filename=None):\n",
    "  img_response = client.images.generate(\n",
    "    model=\"dall-e-2\",\n",
    "    prompt=profile_prompt,\n",
    "    size=\"256x256\",\n",
    "    quality=\"standard\",\n",
    "    n=1,\n",
    "  )\n",
    "  image_url = img_response.data[0].url\n",
    "\n",
    "  if filename is None:\n",
    "    filename = image_url[-15:]\n",
    "\n",
    "  filepath =\"images/\"+  filename+ \".jpg\"\n",
    "  download_image(image_url, filepath)\n",
    "  time.sleep(8)\n",
    "  return filepath\n",
    "\n"
   ]
  },
  {
   "cell_type": "code",
   "execution_count": 42,
   "metadata": {},
   "outputs": [],
   "source": [
    "# Create accounts\n",
    "def create_accounts(users):\n",
    "    for user in users:\n",
    "        new_user =  {\"username\": user, \"password\": user}\n",
    "        newuser_response = requests.post(\"http://localhost:8000/server/newuser\", json=new_user)\n",
    "\n",
    "# Uploading posts\n",
    "def upload_posts(csvfile):\n",
    "    user_posts = dict()\n",
    "    with open(csvfile, \"r\") as file:\n",
    "        csv_reader = csv.reader(file)\n",
    "\n",
    "        for row in csv_reader:\n",
    "            user_posts[row[0]] = user_posts.get(row[0], []) + [row[1]]\n",
    "\n",
    "    for user in user_posts.keys():\n",
    "        login =  {\"username\": user, \"password\": user}\n",
    "        res = requests.post(\"http://localhost:8000/server/login\", json=login)\n",
    "\n",
    "        for post_text in user_posts[user]:\n",
    "            current_time = time.time()*1000 - random.randint(0,999999999)\n",
    "            post = {\"text\": post_text, \"image\":\"\", \"time\": current_time}\n",
    "            res2 = requests.post(\"http://localhost:8000/server/newpost\", json=post, cookies=res.cookies)\n",
    "\n",
    "# Uploading profile pics\n",
    "def upload_profile_pics(user_pics):\n",
    "    for user in user_pics.keys():\n",
    "        login =  {\"username\": user, \"password\": user}\n",
    "        res = requests.post(\"http://localhost:8000/server/login\", json=login)\n",
    "        \n",
    "        with open(user_pics[user], \"rb\") as file:\n",
    "            files = {\"image\": file}\n",
    "            res2 = requests.post(\"http://localhost:8000/server/images\", files=files, cookies=res.cookies)\n"
   ]
  },
  {
   "cell_type": "code",
   "execution_count": 51,
   "metadata": {},
   "outputs": [
    {
     "name": "stdout",
     "output_type": "stream",
     "text": [
      "Image downloaded successfully as images/6PdlPpQ%3D.jpg\n"
     ]
    }
   ],
   "source": [
    "# Create usernames, profile pic, and posts\n",
    "usernames = create_list(\"Generate a list of 40 different first names.\")\n",
    "animals = create_list(\"Generate a list of 40 different animals that are found in North America or the arctic.\")\n",
    "assert len(usernames)==len(animals), \"Length of lists do not match\"\n",
    "\n",
    "user_img_paths = {}\n",
    "user_posts = {}\n",
    "for i, user in enumerate(usernames):\n",
    "    try:\n",
    "        path = create_pics(f\"A cartoon image of a {animals[i]} with its face in the center of the image\")\n",
    "        user_img_paths[user] = path\n",
    "        count = random.randint(7,15)\n",
    "        post_prompt = f\"\"\"Pretend you are a {animals[i]}. Generate a list of {count} social media posts. \n",
    "        Each item in the list should only consist of the text of the post.\"\"\"\n",
    "        user_posts[user] = create_list(post_prompt, temp=1)\n",
    "    except:\n",
    "         print(\"Error with:\", user, animals[i])\n",
    "\n",
    "with open (\"posts.csv\", \"w\", newline=\"\") as file:\n",
    "        csvwriter = csv.writer(file)\n",
    "        for user in usernames:\n",
    "            if user in user_posts:\n",
    "                for post in user_posts[user]:\n",
    "                    csvwriter.writerow([user, post])"
   ]
  },
  {
   "cell_type": "code",
   "execution_count": 53,
   "metadata": {},
   "outputs": [
    {
     "name": "stdout",
     "output_type": "stream",
     "text": [
      "<Response [200]>\n",
      "<Response [200]>\n"
     ]
    }
   ],
   "source": [
    "# Create accounts and upload posts\n",
    "create_accounts(usernames)\n",
    "upload_profile_pics(user_img_paths)\n",
    "upload_posts(\"posts.csv\")"
   ]
  },
  {
   "cell_type": "code",
   "execution_count": null,
   "metadata": {},
   "outputs": [],
   "source": []
  }
 ],
 "metadata": {
  "kernelspec": {
   "display_name": "base",
   "language": "python",
   "name": "python3"
  },
  "language_info": {
   "codemirror_mode": {
    "name": "ipython",
    "version": 3
   },
   "file_extension": ".py",
   "mimetype": "text/x-python",
   "name": "python",
   "nbconvert_exporter": "python",
   "pygments_lexer": "ipython3",
   "version": "3.11.5"
  }
 },
 "nbformat": 4,
 "nbformat_minor": 2
}
